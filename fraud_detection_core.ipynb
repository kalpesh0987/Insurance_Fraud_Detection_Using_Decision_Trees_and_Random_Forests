{
 "cells": [
  {
   "cell_type": "markdown",
   "id": "edc2a841-6d5e-4d77-ae3e-77cb58049db6",
   "metadata": {},
   "source": [
    "# Kalpesh Patil ___ Machine Learning ___ Assignemnt 2"
   ]
  },
  {
   "cell_type": "markdown",
   "id": "c9019aad-5058-4733-98d8-901ff6a2a701",
   "metadata": {},
   "source": [
    "### Import necessary libraries"
   ]
  },
  {
   "cell_type": "code",
   "execution_count": 73,
   "id": "18a4e893-5a91-497e-802f-fb1838bc0376",
   "metadata": {},
   "outputs": [],
   "source": [
    "import pandas as pd\n",
    "from sklearn.compose import ColumnTransformer\n",
    "from sklearn.preprocessing import StandardScaler, OneHotEncoder\n",
    "from sklearn.tree import DecisionTreeClassifier\n",
    "from sklearn.ensemble import RandomForestClassifier\n",
    "from sklearn.pipeline import Pipeline\n",
    "from sklearn.model_selection import GridSearchCV, RandomizedSearchCV, train_test_split\n",
    "from sklearn.impute import SimpleImputer\n",
    "from sklearn.metrics import f1_score, accuracy_score, precision_score, recall_score\n",
    "from skopt import BayesSearchCV\n",
    "from scipy.stats import randint, uniform"
   ]
  },
  {
   "cell_type": "markdown",
   "id": "4c959e24-7933-4110-9806-f358f6fafa8d",
   "metadata": {},
   "source": [
    "### Load the datasets"
   ]
  },
  {
   "cell_type": "code",
   "execution_count": 76,
   "id": "1b4d8a58-4e19-4b74-bccc-6371436c9207",
   "metadata": {},
   "outputs": [],
   "source": [
    "train_data = pd.read_csv('Insurance Fraud - TRAIN-3000.csv')\n",
    "test_data = pd.read_csv('Insurance Fraud -TEST-12900.csv')"
   ]
  },
  {
   "cell_type": "code",
   "execution_count": 80,
   "id": "bd5ce8f1-0851-41ff-a635-a55ea8edb087",
   "metadata": {},
   "outputs": [
    {
     "name": "stdout",
     "output_type": "stream",
     "text": [
      "Test data shape: (12918, 32)\n",
      "Number of rows in test data: 12918\n",
      "Number of columns in test data: 32\n"
     ]
    }
   ],
   "source": [
    "print(f\"Test data shape: {test_data.shape}\")\n",
    "print(f\"Number of rows in test data: {test_data.shape[0]}\")\n",
    "print(f\"Number of columns in test data: {test_data.shape[1]}\")"
   ]
  },
  {
   "cell_type": "markdown",
   "id": "d449a41c-c4ec-4bdd-a20d-5a2660c4b1cb",
   "metadata": {},
   "source": [
    "### Prepare the data"
   ]
  },
  {
   "cell_type": "code",
   "execution_count": 46,
   "id": "7561efd4-31cc-46b7-a778-02c3df53b5ea",
   "metadata": {},
   "outputs": [],
   "source": [
    "X_train = train_data.drop(columns=['FRAUDFOUND'])\n",
    "y_train = train_data['FRAUDFOUND']\n",
    "X_test = test_data.drop(columns=['FRAUDFOUND'])\n",
    "y_test = test_data['FRAUDFOUND']"
   ]
  },
  {
   "cell_type": "markdown",
   "id": "e07fadbb-bb30-4ee5-8b3b-1da9fa1283bc",
   "metadata": {},
   "source": [
    "### Define the preprocessor"
   ]
  },
  {
   "cell_type": "code",
   "execution_count": 49,
   "id": "c756f908-a4c3-4b5b-83d0-6119cadb2933",
   "metadata": {},
   "outputs": [],
   "source": [
    "numerical_features = X_train.select_dtypes(include=['float64', 'int64']).columns\n",
    "categorical_features = X_train.select_dtypes(include=['object']).columns\n",
    "\n",
    "# Preprocessing for numerical data: impute missing values and scale\n",
    "numerical_transformer = Pipeline(steps=[\n",
    "    ('imputer', SimpleImputer(strategy='mean')),  # Impute missing values with the mean\n",
    "    ('scaler', StandardScaler())  # Scale numerical features\n",
    "])\n",
    "\n",
    "# Preprocessing for categorical data: impute missing values and encode\n",
    "categorical_transformer = Pipeline(steps=[\n",
    "    ('imputer', SimpleImputer(strategy='most_frequent')),  # Impute missing values with the most frequent value\n",
    "    ('encoder', OneHotEncoder(handle_unknown='ignore'))  # One-hot encode categorical variables\n",
    "])\n",
    "\n",
    "# Combine the numerical and categorical transformers into one\n",
    "preprocessor = ColumnTransformer(\n",
    "    transformers=[\n",
    "        ('num', numerical_transformer, numerical_features),\n",
    "        ('cat', categorical_transformer, categorical_features)\n",
    "    ])"
   ]
  },
  {
   "cell_type": "markdown",
   "id": "5b3f9f86-ded1-4b58-a6e1-72eac97deb72",
   "metadata": {},
   "source": [
    "### Define the model pipeline"
   ]
  },
  {
   "cell_type": "code",
   "execution_count": 52,
   "id": "6845856c-2734-40c2-ac16-f60b3e0c6344",
   "metadata": {},
   "outputs": [],
   "source": [
    "pipeline_dt = Pipeline(steps=[\n",
    "    ('preprocessor', preprocessor),\n",
    "    ('classifier', DecisionTreeClassifier(random_state=42))\n",
    "])\n",
    "\n",
    "pipeline_rf = Pipeline(steps=[\n",
    "    ('preprocessor', preprocessor),\n",
    "    ('classifier', RandomForestClassifier(random_state=42))\n",
    "])\n"
   ]
  },
  {
   "cell_type": "markdown",
   "id": "8960c92d-c612-48e5-a2f7-61572ca8e168",
   "metadata": {},
   "source": [
    "### Hyperparameter tuning"
   ]
  },
  {
   "cell_type": "code",
   "execution_count": 55,
   "id": "898b0b4f-68a4-4883-afe0-8650d858cf1f",
   "metadata": {},
   "outputs": [],
   "source": [
    "# Define hyperparameter grids\n",
    "dt_param_grid = {\n",
    "    'classifier__max_depth': [3, 5, 10, None],  # Tuning max depth\n",
    "    'classifier__min_samples_split': [2, 5, 10],  # Tuning min_samples_split\n",
    "    'classifier__min_samples_leaf': [1, 2, 5]  # Tuning min_samples_leaf\n",
    "}\n",
    "\n",
    "rf_param_grid = {\n",
    "    'classifier__n_estimators': [50, 100, 200],  # Number of trees in the forest\n",
    "    'classifier__max_depth': [10, 20, None],  # Maximum depth of trees\n",
    "    'classifier__min_samples_split': [2, 5, 10],  # Split size for nodes\n",
    "}"
   ]
  },
  {
   "cell_type": "markdown",
   "id": "2da76e75-17fc-4fd8-886a-43fb02676a86",
   "metadata": {},
   "source": [
    "### Tuning using GridSearchCV, RandomizedSearchCV, and BayesSearchCV"
   ]
  },
  {
   "cell_type": "code",
   "execution_count": 58,
   "id": "465f07d0-bf20-419a-8437-7aaf2dbc3315",
   "metadata": {},
   "outputs": [
    {
     "name": "stdout",
     "output_type": "stream",
     "text": [
      "Grid Search - Best parameters (Decision Tree): {'classifier__max_depth': 3, 'classifier__min_samples_leaf': 5, 'classifier__min_samples_split': 2}\n",
      "Random Search - Best parameters (Decision Tree): {'classifier__min_samples_split': 10, 'classifier__min_samples_leaf': 5, 'classifier__max_depth': 3}\n",
      "Bayes Search - Best parameters (Decision Tree): OrderedDict({'classifier__max_depth': 3, 'classifier__min_samples_leaf': 5, 'classifier__min_samples_split': 5})\n",
      "Grid Search - Best parameters (Random Forest): {'classifier__max_depth': None, 'classifier__min_samples_split': 5, 'classifier__n_estimators': 100}\n",
      "Random Search - Best parameters (Random Forest): {'classifier__n_estimators': 200, 'classifier__min_samples_split': 10, 'classifier__max_depth': None}\n",
      "Bayes Search - Best parameters (Random Forest): OrderedDict({'classifier__max_depth': None, 'classifier__min_samples_split': 5, 'classifier__n_estimators': 100})\n"
     ]
    }
   ],
   "source": [
    "# Grid Search for Decision Tree\n",
    "grid_search_dt = GridSearchCV(pipeline_dt, dt_param_grid, cv=5, scoring='f1_weighted', n_jobs=-1)\n",
    "grid_search_dt.fit(X_train, y_train)\n",
    "print(f\"Grid Search - Best parameters (Decision Tree): {grid_search_dt.best_params_}\")\n",
    "\n",
    "# Random Search for Decision Tree\n",
    "dt_random_search = RandomizedSearchCV(pipeline_dt, dt_param_grid, n_iter=10, cv=5, scoring='f1_weighted', n_jobs=-1)\n",
    "dt_random_search.fit(X_train, y_train)\n",
    "print(f\"Random Search - Best parameters (Decision Tree): {dt_random_search.best_params_}\")\n",
    "\n",
    "# Bayesian Search for Decision Tree\n",
    "dt_bayes_search = BayesSearchCV(pipeline_dt, dt_param_grid, n_iter=10, cv=5, scoring='f1_weighted', n_jobs=-1)\n",
    "dt_bayes_search.fit(X_train, y_train)\n",
    "print(f\"Bayes Search - Best parameters (Decision Tree): {dt_bayes_search.best_params_}\")\n",
    "\n",
    "# Grid Search for Random Forest\n",
    "grid_search_rf = GridSearchCV(pipeline_rf, rf_param_grid, cv=5, scoring='f1_weighted', n_jobs=-1)\n",
    "grid_search_rf.fit(X_train, y_train)\n",
    "print(f\"Grid Search - Best parameters (Random Forest): {grid_search_rf.best_params_}\")\n",
    "\n",
    "# Random Search for Random Forest\n",
    "rf_random_search = RandomizedSearchCV(pipeline_rf, rf_param_grid, n_iter=10, cv=5, scoring='f1_weighted', n_jobs=-1)\n",
    "rf_random_search.fit(X_train, y_train)\n",
    "print(f\"Random Search - Best parameters (Random Forest): {rf_random_search.best_params_}\")\n",
    "\n",
    "# Bayesian Search for Random Forest\n",
    "rf_bayes_search = BayesSearchCV(pipeline_rf, rf_param_grid, n_iter=10, cv=5, scoring='f1_weighted', n_jobs=-1)\n",
    "rf_bayes_search.fit(X_train, y_train)\n",
    "print(f\"Bayes Search - Best parameters (Random Forest): {rf_bayes_search.best_params_}\")\n"
   ]
  },
  {
   "cell_type": "markdown",
   "id": "02a205e0-f811-44b5-b8a1-6df78bc29699",
   "metadata": {},
   "source": [
    "### Build new models based on the best parameters"
   ]
  },
  {
   "cell_type": "code",
   "execution_count": 60,
   "id": "457ecc17-1bd7-46e0-a770-6e8ffc5e617c",
   "metadata": {},
   "outputs": [],
   "source": [
    "# Decision Tree models from best parameters\n",
    "best_dt_model_grid = grid_search_dt.best_estimator_\n",
    "best_dt_model_random = dt_random_search.best_estimator_\n",
    "best_dt_model_bayes = dt_bayes_search.best_estimator_\n",
    "\n",
    "# Random Forest models from best parameters\n",
    "best_rf_model_grid = grid_search_rf.best_estimator_\n",
    "best_rf_model_random = rf_random_search.best_estimator_\n",
    "best_rf_model_bayes = rf_bayes_search.best_estimator_"
   ]
  },
  {
   "cell_type": "markdown",
   "id": "7e5b39fc-d28f-471c-a22d-2ed3f389a015",
   "metadata": {},
   "source": [
    "### Evaluate models on the test set"
   ]
  },
  {
   "cell_type": "code",
   "execution_count": 62,
   "id": "5e1dfa07-eb57-4446-9647-0c66b27047c5",
   "metadata": {},
   "outputs": [
    {
     "name": "stdout",
     "output_type": "stream",
     "text": [
      "Decision Tree - Grid Search - Accuracy: 0.8511, Precision: 0.9392, Recall: 0.8511, F1: 0.8893\n",
      "Decision Tree - Random Search - Accuracy: 0.8511, Precision: 0.9392, Recall: 0.8511, F1: 0.8893\n",
      "Decision Tree - Bayes Search - Accuracy: 0.8511, Precision: 0.9392, Recall: 0.8511, F1: 0.8893\n",
      "Random Forest - Grid Search - Accuracy: 0.9578, Precision: 0.9683, Recall: 0.9578, F1: 0.9620\n",
      "Random Forest - Random Search - Accuracy: 0.9508, Precision: 0.9552, Recall: 0.9508, F1: 0.9528\n",
      "Random Forest - Bayes Search - Accuracy: 0.9578, Precision: 0.9683, Recall: 0.9578, F1: 0.9620\n"
     ]
    }
   ],
   "source": [
    "def evaluate_model(model, X_test, y_test):\n",
    "    y_pred = model.predict(X_test)\n",
    "    accuracy = accuracy_score(y_test, y_pred)\n",
    "    precision = precision_score(y_test, y_pred, average='weighted')\n",
    "    recall = recall_score(y_test, y_pred, average='weighted')\n",
    "    f1 = f1_score(y_test, y_pred, average='weighted')\n",
    "    return accuracy, precision, recall, f1\n",
    "\n",
    "# Evaluate all models\n",
    "# Decision Tree evaluations\n",
    "dt_grid_scores = evaluate_model(best_dt_model_grid, X_test, y_test)\n",
    "dt_random_scores = evaluate_model(best_dt_model_random, X_test, y_test)\n",
    "dt_bayes_scores = evaluate_model(best_dt_model_bayes, X_test, y_test)\n",
    "\n",
    "# Random Forest evaluations\n",
    "rf_grid_scores = evaluate_model(best_rf_model_grid, X_test, y_test)\n",
    "rf_random_scores = evaluate_model(best_rf_model_random, X_test, y_test)\n",
    "rf_bayes_scores = evaluate_model(best_rf_model_bayes, X_test, y_test)\n",
    "\n",
    "\n",
    "# Print scores for comparison in a more readable format\n",
    "def print_comparison(model_name, scores):\n",
    "    accuracy, precision, recall, f1 = scores\n",
    "    print(f\"{model_name} - Accuracy: {accuracy:.4f}, Precision: {precision:.4f}, Recall: {recall:.4f}, F1: {f1:.4f}\")\n",
    "\n",
    "# Print Decision Tree model scores\n",
    "print_comparison(\"Decision Tree - Grid Search\", dt_grid_scores)\n",
    "print_comparison(\"Decision Tree - Random Search\", dt_random_scores)\n",
    "print_comparison(\"Decision Tree - Bayes Search\", dt_bayes_scores)\n",
    "\n",
    "# Print Random Forest model scores\n",
    "print_comparison(\"Random Forest - Grid Search\", rf_grid_scores)\n",
    "print_comparison(\"Random Forest - Random Search\", rf_random_scores)\n",
    "print_comparison(\"Random Forest - Bayes Search\", rf_bayes_scores)"
   ]
  },
  {
   "cell_type": "code",
   "execution_count": 63,
   "id": "c4d4d4ad-76f8-4e07-a613-787428a5bcad",
   "metadata": {},
   "outputs": [
    {
     "name": "stdout",
     "output_type": "stream",
     "text": [
      "Decision Tree - Grid Search - Accuracy: 0.8511, Precision: 0.9392, Recall: 0.8511, F1: 0.8893\n",
      "Decision Tree - Random Search - Accuracy: 0.8511, Precision: 0.9392, Recall: 0.8511, F1: 0.8893\n",
      "Decision Tree - Bayes Search - Accuracy: 0.8511, Precision: 0.9392, Recall: 0.8511, F1: 0.8893\n",
      "Random Forest - Grid Search - Accuracy: 0.9578, Precision: 0.9683, Recall: 0.9578, F1: 0.9620\n",
      "Random Forest - Random Search - Accuracy: 0.9508, Precision: 0.9552, Recall: 0.9508, F1: 0.9528\n",
      "Random Forest - Bayes Search - Accuracy: 0.9578, Precision: 0.9683, Recall: 0.9578, F1: 0.9620\n"
     ]
    }
   ],
   "source": [
    "# Print scores for comparison in a more readable format\n",
    "def print_comparison(model_name, scores):\n",
    "    accuracy, precision, recall, f1 = scores\n",
    "    print(f\"{model_name} - Accuracy: {accuracy:.4f}, Precision: {precision:.4f}, Recall: {recall:.4f}, F1: {f1:.4f}\")\n",
    "\n",
    "# Print Decision Tree model scores\n",
    "print_comparison(\"Decision Tree - Grid Search\", dt_grid_scores)\n",
    "print_comparison(\"Decision Tree - Random Search\", dt_random_scores)\n",
    "print_comparison(\"Decision Tree - Bayes Search\", dt_bayes_scores)\n",
    "\n",
    "# Print Random Forest model scores\n",
    "print_comparison(\"Random Forest - Grid Search\", rf_grid_scores)\n",
    "print_comparison(\"Random Forest - Random Search\", rf_random_scores)\n",
    "print_comparison(\"Random Forest - Bayes Search\", rf_bayes_scores)\n"
   ]
  },
  {
   "cell_type": "markdown",
   "id": "549f8b11-2653-4b09-bc8c-bdbea6470c51",
   "metadata": {},
   "source": [
    "### Further Analysis and Conclusion"
   ]
  },
  {
   "cell_type": "code",
   "execution_count": 65,
   "id": "d36e68cb-4819-41ad-8693-afb22cfc11bc",
   "metadata": {},
   "outputs": [
    {
     "name": "stdout",
     "output_type": "stream",
     "text": [
      "Best Decision Tree Model by Accuracy: 0.8511379470506271\n",
      "Best Random Forest Model by Accuracy: 0.9578108066264127\n"
     ]
    }
   ],
   "source": [
    "best_dt_accuracy = max(dt_grid_scores[0], dt_random_scores[0], dt_bayes_scores[0])\n",
    "best_rf_accuracy = max(rf_grid_scores[0], rf_random_scores[0], rf_bayes_scores[0])\n",
    "print(f\"Best Decision Tree Model by Accuracy: {best_dt_accuracy}\")\n",
    "print(f\"Best Random Forest Model by Accuracy: {best_rf_accuracy}\")"
   ]
  },
  {
   "cell_type": "code",
   "execution_count": null,
   "id": "30535b10-78b6-42df-a574-c3d2af2153e9",
   "metadata": {},
   "outputs": [],
   "source": []
  }
 ],
 "metadata": {
  "kernelspec": {
   "display_name": "Python 3 (ipykernel)",
   "language": "python",
   "name": "python3"
  },
  "language_info": {
   "codemirror_mode": {
    "name": "ipython",
    "version": 3
   },
   "file_extension": ".py",
   "mimetype": "text/x-python",
   "name": "python",
   "nbconvert_exporter": "python",
   "pygments_lexer": "ipython3",
   "version": "3.12.4"
  }
 },
 "nbformat": 4,
 "nbformat_minor": 5
}
